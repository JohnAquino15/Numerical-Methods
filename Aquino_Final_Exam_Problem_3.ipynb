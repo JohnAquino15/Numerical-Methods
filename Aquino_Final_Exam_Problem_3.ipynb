{
  "nbformat": 4,
  "nbformat_minor": 0,
  "metadata": {
    "colab": {
      "name": "Aquino Final Exam Problem 3.ipynb",
      "provenance": [],
      "authorship_tag": "ABX9TyPfn+F7dj8k7vhkEy7snMCr",
      "include_colab_link": true
    },
    "kernelspec": {
      "name": "python3",
      "display_name": "Python 3"
    },
    "language_info": {
      "name": "python"
    }
  },
  "cells": [
    {
      "cell_type": "markdown",
      "metadata": {
        "id": "view-in-github",
        "colab_type": "text"
      },
      "source": [
        "<a href=\"https://colab.research.google.com/github/JohnAquino15/Numerical-Methods-58012/blob/main/Aquino_Final_Exam_Problem_3.ipynb\" target=\"_parent\"><img src=\"https://colab.research.google.com/assets/colab-badge.svg\" alt=\"Open In Colab\"/></a>"
      ]
    },
    {
      "cell_type": "code",
      "execution_count": 1,
      "metadata": {
        "colab": {
          "base_uri": "https://localhost:8080/"
        },
        "id": "944uebH9aWSL",
        "outputId": "e76b7255-cbfc-474d-9876-b6cd1f528f58"
      },
      "outputs": [
        {
          "output_type": "stream",
          "name": "stdout",
          "text": [
            "Integral = 2.262117\n"
          ]
        }
      ],
      "source": [
        "#John Benedict Aquino\n",
        "#Final Exam\n",
        "#Problem 3\n",
        "\n",
        "import math\n",
        "\n",
        "\n",
        "def f(x): return math.e**x\n",
        "\n",
        "\n",
        "a = -1\n",
        "b = 1\n",
        "n = 30\n",
        "h = (b - a) / n\n",
        "S = h * (f(a) + f(b))\n",
        "for i in range(1, n):\n",
        "    S = S + f(a + i * h)\n",
        "Integral = h * S\n",
        "print('Integral = %f' % Integral)"
      ]
    }
  ]
}